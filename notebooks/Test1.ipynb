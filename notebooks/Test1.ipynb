{
 "cells": [
  {
   "cell_type": "code",
   "execution_count": 15,
   "metadata": {
    "collapsed": false
   },
   "outputs": [],
   "source": [
    "from __future__ import print_function\n",
    "import numpy as np\n",
    "import random\n",
    "\n",
    "class Learner:\n",
    "    Q = np.random.rand(3,3,3,3,3,3,3,3,3,9) \n",
    "    #Q = np.zeros((3,3,3,3,3,3,3,3,3,9))\n",
    "    age = 1    \n",
    "\n",
    "    def __init__(self, exploitRate=.9):\n",
    "        self.eta = 0.7 #learning rate\n",
    "        self.gamma = .7 #discount rate \n",
    "        self.softmax = False\n",
    "        self.exploitRate = exploitRate\n",
    "        \n",
    "        self.oldBoard = tuple(np.zeros((3,3), dtype=np.int).ravel())\n",
    "        self.chosenMove = 0\n",
    "    \n",
    "    def thinkMove(self, board):\n",
    "        self.oldBoard = tuple(board.ravel())\n",
    "        if self.softmax:\n",
    "            Qmoves = Learner.Q[self.oldBoard]\n",
    "            P = np.exp(Qmoves * self.exploitRate * Learner.age)\n",
    "            Learner.age += 1\n",
    "            P = P / np.sum(P)\n",
    "            self.chosenMove = np.random.choice(np.arange(0,9), p=P)\n",
    "        else:\n",
    "            if random.random() < self.exploitRate:\n",
    "                self.chosenMove = np.argmax(Learner.Q[self.oldBoard])\n",
    "            else:\n",
    "                self.chosenMove = np.random.choice(np.arange(0,9))\n",
    "        return (self.chosenMove/3, self.chosenMove%3)\n",
    "    \n",
    "    def updateQ(self, board, gameState, learnsTurn):\n",
    "        r = 0\n",
    "        if gameState == 'l' and learnsTurn:\n",
    "            r = -1.\n",
    "        elif gameState == 'w' and learnsTurn:\n",
    "            r = 1.\n",
    "        elif gameState == 'w' and not learnsTurn:\n",
    "            r = -1.\n",
    "        Learner.Q[self.oldBoard][self.chosenMove] = (1-self.eta)*Learner.Q[self.oldBoard][self.chosenMove] + \\\n",
    "        self.eta*(r + self.gamma*(np.amax(Learner.Q[tuple(board.ravel())])))\n",
    "        \n",
    "        #print(np.asarray(self.oldBoard).reshape(3,3), self.chosenMove)\n",
    "        #print(Learner.Q[self.oldBoard][self.chosenMove])\n",
    "        return\n",
    "        "
   ]
  },
  {
   "cell_type": "code",
   "execution_count": 61,
   "metadata": {
    "collapsed": false
   },
   "outputs": [
    {
     "name": "stdout",
     "output_type": "stream",
     "text": [
      "9902 9 89\n"
     ]
    }
   ],
   "source": [
    "\n",
    "def makeMove((row, col), player):\n",
    "    #check oob\n",
    "    if row!=0 and row!=1 and row!=2:\n",
    "        return 'l'\n",
    "    if col!=0 and col!=1 and col!=2:\n",
    "        return '1'\n",
    "    if board[row][col] != 0:\n",
    "        return 'l'\n",
    "    #make the move\n",
    "    board[row][col] = player\n",
    "    \n",
    "    #print(board)\n",
    "    #print(\"\")\n",
    "    \n",
    "    #check for win\n",
    "    if board[0][col] != 0 and board[0][col] == board[1][col] and board[1][col] == board[2][col]:\n",
    "        return 'w'\n",
    "    if board[row][0] != 0 and board[row][0] == board[row][1] and board[row][1] == board[row][2]:\n",
    "        return 'w'\n",
    "    if board[0][0] != 0 and board[0][0] == board[1][1] and board[1][1] == board[2][2]:\n",
    "        return 'w'\n",
    "    if  board[2][0] != 0 and board[2][0] == board[1][1] and board[1][1] == board[0][2]:\n",
    "        return 'w'\n",
    "    if (board == np.zeros((3,3), dtype=np.int)).sum() == 0:\n",
    "        return 't'\n",
    "    return 'c'\n",
    "\n",
    "def aiRandom():\n",
    "    moves = []\n",
    "    for i in range(0,3):\n",
    "        for j in range(0,3):\n",
    "            if board[i][j] == 0:\n",
    "                moves.append((i,j))\n",
    "    if len(moves) == 0:\n",
    "        return (-1,-1)\n",
    "    return random.choice(moves)\n",
    "\n",
    "def aiHuman():\n",
    "    print(board)\n",
    "    print(\"\")\n",
    "    \n",
    "    row = input()\n",
    "    col = input()\n",
    "    return (row, col)\n",
    "\n",
    "def playGame(learnerFirst, learner):\n",
    "    learnsTurn = False\n",
    "    turnN = 0\n",
    "    gameState = 'c'\n",
    "    \n",
    "    if not learnerFirst:\n",
    "        gameState = makeMove(aiRandom(), 1)\n",
    "        turnN =+ 1\n",
    "        \n",
    "    while gameState == 'c':\n",
    "        gameState = makeMove(learner.thinkMove(board), 2)\n",
    "        turnN += 1\n",
    "        if gameState != 'c':\n",
    "            learnsTurn = True\n",
    "            learner.updateQ(board, gameState, learnsTurn)\n",
    "            break\n",
    "        gameState = makeMove(aiRandom(), 1)\n",
    "        turnN += 1\n",
    "        learner.updateQ(board, gameState, learnsTurn)\n",
    "    \n",
    "    #print(gameState + \" aiLearn\" if learnsTurn else gameState + \" aiRandom\")\n",
    "    return (gameState, learnsTurn)\n",
    "        \n",
    "\n",
    "learner1 = Learner(exploitRate=1)\n",
    "learnerWins = 0\n",
    "challengerWins = 0\n",
    "ties = 0\n",
    "\n",
    "for i in range(0,10000):\n",
    "    board = np.zeros((3,3), dtype=np.int)\n",
    "    #res = playGame(i%2, learner1)\n",
    "    res = playGame(True, learner1)\n",
    "    \n",
    "    if res[0] == 't':\n",
    "        ties += 1\n",
    "    elif res == ('w', True):\n",
    "        learnerWins += 1\n",
    "    elif res == ('l', False):\n",
    "        learnerWins += 1\n",
    "    elif res == ('l', True):\n",
    "        challengerWins += 1\n",
    "    elif res == ('w', False):\n",
    "        challengerWins += 1\n",
    "        \n",
    "print(learnerWins, challengerWins, ties)\n",
    "\n",
    "\n",
    "\n",
    "\n",
    "    "
   ]
  },
  {
   "cell_type": "code",
   "execution_count": 52,
   "metadata": {
    "collapsed": false
   },
   "outputs": [
    {
     "name": "stdout",
     "output_type": "stream",
     "text": [
      "[ 0.03425823  0.18712011  0.78768498  0.17309894  0.6555249   0.60942209\n",
      "  0.72615048  0.52313819  0.49055656]\n",
      "2\n"
     ]
    }
   ],
   "source": [
    "indeces = (2,2,1,\n",
    "           1,2,2,\n",
    "           2,1,1)\n",
    "print(Learner.Q[indeces])\n",
    "print(np.argmax(Learner.Q[indeces]))"
   ]
  },
  {
   "cell_type": "code",
   "execution_count": null,
   "metadata": {
    "collapsed": true
   },
   "outputs": [],
   "source": []
  }
 ],
 "metadata": {
  "anaconda-cloud": {},
  "kernelspec": {
   "display_name": "Python [conda root]",
   "language": "python",
   "name": "conda-root-py"
  },
  "language_info": {
   "codemirror_mode": {
    "name": "ipython",
    "version": 2
   },
   "file_extension": ".py",
   "mimetype": "text/x-python",
   "name": "python",
   "nbconvert_exporter": "python",
   "pygments_lexer": "ipython2",
   "version": "2.7.12"
  }
 },
 "nbformat": 4,
 "nbformat_minor": 1
}
