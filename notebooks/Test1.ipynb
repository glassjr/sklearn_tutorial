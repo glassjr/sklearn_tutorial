{
 "cells": [
  {
   "cell_type": "code",
   "execution_count": 40,
   "metadata": {
    "collapsed": false
   },
   "outputs": [],
   "source": [
    "from __future__ import print_function\n",
    "import numpy as np\n",
    "import random\n",
    "\n",
    "class Learner:\n",
    "    Q = np.random.rand(3,3,3,3,3,3,3,3,3,9) \n",
    "    age = 1    \n",
    "\n",
    "    def __init__(self, exploitRate=.9):\n",
    "        self.eta = 0.7 #step rate\n",
    "        self.gamma = 1 #future move rate \n",
    "        self.chosenMove = 0\n",
    "        self.oldBoard = tuple(np.zeros((3,3), dtype=np.int).ravel())\n",
    "        self.ee = False\n",
    "        self.exploitRate = exploitRate\n",
    "    \n",
    "    def thinkMove(self, board):\n",
    "        self.oldBoard = tuple(board.ravel())\n",
    "        if self.ee:\n",
    "            Qmoves = Learner.Q[self.oldBoard]\n",
    "            P = np.exp(Qmoves * self.exploitRate * Learner.age)\n",
    "            Learner.age += 1\n",
    "            P = P / np.sum(P)\n",
    "            self.chosenMove = np.random.choice(np.arange(0,9), p=P)\n",
    "        else:\n",
    "            if random.random() < self.exploitRate:\n",
    "                self.chosenMove = np.argmax(Learner.Q[self.oldBoard])\n",
    "            else:\n",
    "                self.chosenMove = np.random.choice(np.arange(0,9))\n",
    "        return (self.chosenMove/3, self.chosenMove%3)\n",
    "    \n",
    "    def updateQ(self, board, gameState):\n",
    "        r = 0\n",
    "        if gameState == 'l':\n",
    "            r = -10\n",
    "        elif gameState == 'w':\n",
    "            r = 10\n",
    "        Learner.Q[self.oldBoard][self.chosenMove] = (1-self.eta)*Learner.Q[self.oldBoard][self.chosenMove] + \\\n",
    "        self.eta*(r + self.gamma*(np.amax(Learner.Q[tuple(board.ravel())])))\n",
    "        \n",
    "        #print(np.asarray(self.oldBoard).reshape(3,3), self.chosenMove)\n",
    "        #print(Learner.Q[self.oldBoard][self.chosenMove])\n",
    "        return\n",
    "        "
   ]
  },
  {
   "cell_type": "code",
   "execution_count": 52,
   "metadata": {
    "collapsed": false
   },
   "outputs": [
    {
     "name": "stdout",
     "output_type": "stream",
     "text": [
      "263722 110369 25909\n"
     ]
    }
   ],
   "source": [
    "\n",
    "def makeMove((row, col), player):\n",
    "    #check oob\n",
    "    if row!=0 and row!=1 and row!=2:\n",
    "        return 'l'\n",
    "    if col!=0 and col!=1 and col!=2:\n",
    "        return '1'\n",
    "    if board[row][col] != 0:\n",
    "        return 'l'\n",
    "    #make the move\n",
    "    board[row][col] = player\n",
    "    #print(board)\n",
    "    #print(\"\")\n",
    "    #check for win\n",
    "    if board[0][col] != 0 and board[0][col] == board[1][col] and board[1][col] == board[2][col]:\n",
    "        return 'w'\n",
    "    if board[row][0] != 0 and board[row][0] == board[row][1] and board[row][1] == board[row][2]:\n",
    "        return 'w'\n",
    "    if board[0][0] != 0 and board[0][0] == board[1][1] and board[1][1] == board[2][2]:\n",
    "        return 'w'\n",
    "    if  board[2][0] != 0 and board[2][0] == board[1][1] and board[1][1] == board[0][2]:\n",
    "        return 'w'\n",
    "    if (board == np.zeros((3,3), dtype=np.int)).sum() == 0:\n",
    "        return 't'\n",
    "    return 'c'\n",
    "\n",
    "def aiRandom():\n",
    "    moves = []\n",
    "    for i in range(0,3):\n",
    "        for j in range(0,3):\n",
    "            if board[i][j] == 0:\n",
    "                moves.append((i,j))\n",
    "    if len(moves) == 0:\n",
    "        return (-1,-1)\n",
    "    return random.choice(moves)\n",
    "\n",
    "def aiHuman():\n",
    "    row = input()\n",
    "    col = input()\n",
    "    return (row, col)\n",
    "\n",
    "def playGame(learnerFirst, learner):\n",
    "    turnN = 0\n",
    "    gameState = 'c'\n",
    "    \n",
    "    while gameState == 'c':\n",
    "        learnsTurn = (turnN+(learnerFirst)*1)%2\n",
    "        gameState = makeMove(learner.thinkMove(board) if learnsTurn else aiRandom(), learnsTurn*1 + 1)\n",
    "        turnN += 1\n",
    "        if learnsTurn:\n",
    "            learner.updateQ(board, gameState)\n",
    "    #if not learnsTurn:\n",
    "        #learner.updateQ(board, gameState)\n",
    "    \n",
    "    #print(gameState + \" aiLearn\" if learnsTurn else gameState + \" aiRandom\")\n",
    "    return (gameState, learnsTurn)\n",
    "        \n",
    "\n",
    "learner1 = Learner(exploitRate=1)\n",
    "learnerWins = 0\n",
    "challengerWins = 0\n",
    "ties = 0\n",
    "\n",
    "for i in range(0,400000):\n",
    "    board = np.zeros((3,3), dtype=np.int)\n",
    "    res = playGame(i%2, learner1)\n",
    "    #res = playGame(True, learner1)\n",
    "    \n",
    "    if res[0] == 't':\n",
    "        ties += 1\n",
    "    elif res == ('w', True):\n",
    "        learnerWins += 1\n",
    "    elif res == ('l', False):\n",
    "        learnerWins += 1\n",
    "    elif res == ('l', True):\n",
    "        challengerWins += 1\n",
    "    elif res == ('w', False):\n",
    "        challengerWins += 1\n",
    "        \n",
    "print(learnerWins, challengerWins, ties)\n",
    "\n",
    "\n",
    "\n",
    "\n",
    "    "
   ]
  },
  {
   "cell_type": "code",
   "execution_count": 50,
   "metadata": {
    "collapsed": false
   },
   "outputs": [
    {
     "name": "stdout",
     "output_type": "stream",
     "text": [
      "[ 0.85458695  0.99343014  0.99096599  0.80247734  0.90563932  0.85893081\n",
      "  0.96976199  0.95941505  0.88380843]\n",
      "1\n"
     ]
    }
   ],
   "source": [
    "indeces = (0,0,0,\n",
    "           0,0,0,\n",
    "           0,0,0)\n",
    "print(Learner.Q[indeces])\n",
    "print(np.argmax(Learner.Q[indeces]))"
   ]
  },
  {
   "cell_type": "code",
   "execution_count": 51,
   "metadata": {
    "collapsed": false
   },
   "outputs": [
    {
     "name": "stdout",
     "output_type": "stream",
     "text": [
      "1.00000761449\n"
     ]
    }
   ],
   "source": [
    "z = 10**6\n",
    "for i in range(0,1000000):\n",
    "    z += 10**-6\n",
    "z -= 10**6\n",
    "print(z)\n",
    "    "
   ]
  },
  {
   "cell_type": "code",
   "execution_count": null,
   "metadata": {
    "collapsed": true
   },
   "outputs": [],
   "source": []
  }
 ],
 "metadata": {
  "anaconda-cloud": {},
  "kernelspec": {
   "display_name": "Python [conda root]",
   "language": "python",
   "name": "conda-root-py"
  },
  "language_info": {
   "codemirror_mode": {
    "name": "ipython",
    "version": 2
   },
   "file_extension": ".py",
   "mimetype": "text/x-python",
   "name": "python",
   "nbconvert_exporter": "python",
   "pygments_lexer": "ipython2",
   "version": "2.7.12"
  }
 },
 "nbformat": 4,
 "nbformat_minor": 1
}
